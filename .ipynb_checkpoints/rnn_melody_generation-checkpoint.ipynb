{
 "cells": [
  {
   "cell_type": "code",
   "execution_count": 33,
   "id": "3e2702a1-8896-4631-aaad-4bf618534e23",
   "metadata": {},
   "outputs": [
    {
     "name": "stdout",
     "output_type": "stream",
     "text": [
      "DONE\n"
     ]
    }
   ],
   "source": [
    "import numpy as np\n",
    "from keras.models import Sequential\n",
    "from keras.layers import *\n",
    "from keras.callbacks import ModelCheckpoint\n",
    "from keras.losses import MeanSquaredError\n",
    "from keras.optimizers import *\n",
    "from keras.models import load_model\n",
    "import matplotlib.pyplot as plt\n",
    "from music21 import chord, instrument, converter, note, stream\n",
    "import glob\n",
    "from tensorflow.keras.utils import to_categorical\n",
    "\n",
    "print(\"DONE\")"
   ]
  },
  {
   "cell_type": "code",
   "execution_count": 2,
   "id": "2db637de-0bc4-4d28-a116-31df4ffb0529",
   "metadata": {},
   "outputs": [
    {
     "name": "stdout",
     "output_type": "stream",
     "text": [
      "DONE\n"
     ]
    }
   ],
   "source": [
    "\n",
    "\n",
    "notes = []\n",
    "\n",
    "for file in glob.glob(\"dane_treningowe/midi_clear/*.mid\"):\n",
    "    midi = converter.parse(file)\n",
    "    parts = instrument.partitionByInstrument(midi)\n",
    "\n",
    "    if parts:\n",
    "        for part in parts:\n",
    "            if part.getInstrument() is not None:\n",
    "                instrument_name = part.getInstrument().instrumentName\n",
    "                if instrument_name == \"Acoustic Guitar\":\n",
    "                    notes_to_parse = part.recurse()\n",
    "                    chord_notes = []\n",
    "                    for element in notes_to_parse:\n",
    "                        if isinstance(element, note.Note):\n",
    "                            notes.append(str(element.pitch))\n",
    "                        elif isinstance(element, chord.Chord):\n",
    "                            chord_notes = [str(n) for n in element.normalOrder]\n",
    "                            chord_str = '.'.join(chord_notes)\n",
    "                            notes.append(chord_str)\n",
    "\n",
    "with open(\"output1.txt\", \"w\") as file:\n",
    "    for note_item in notes:\n",
    "        file.write(note_item + \" \")\n",
    "print(\"DONE\")\n",
    "    \n"
   ]
  },
  {
   "cell_type": "code",
   "execution_count": 3,
   "id": "09ab5d3c-27f5-4338-ab8a-bc40e345c9b8",
   "metadata": {},
   "outputs": [
    {
     "name": "stdout",
     "output_type": "stream",
     "text": [
      "DONE\n"
     ]
    }
   ],
   "source": [
    "pitchnames = sorted(set(item for item in notes)) # zbiór unikalnych akordów i nut\n",
    "n_vocab = len(pitchnames) #ilosc unikalnych nut i akordów\n",
    "#słownik, przypisanie nutom ich odpowiednich liczb\n",
    "note_to_int = dict((note, number) for number, note in enumerate(pitchnames))\n",
    "print(\"DONE\")"
   ]
  },
  {
   "cell_type": "code",
   "execution_count": 4,
   "id": "9d73c3c6-46d5-479e-a2fe-0abc8ae0519d",
   "metadata": {},
   "outputs": [
    {
     "name": "stdout",
     "output_type": "stream",
     "text": [
      "DONE\n"
     ]
    }
   ],
   "source": [
    "#wejscia i wyjścia sieci\n",
    "network_input = []\n",
    "network_output = []\n",
    "sequence_length = 25 # dlugosc sekwencji wejsciowej\n",
    "for i in range(0, len(notes) - sequence_length, 1): # tworzenie sekwencji wejsciowych i wyjsciowych\n",
    "    sequence_in = notes[i:i + sequence_length]\n",
    "    sequence_out = notes[i + sequence_length]\n",
    "    network_input.append([note_to_int[char] for char in sequence_in])\n",
    "    network_output.append(note_to_int[sequence_out])\n",
    "    n_patterns = len(network_input)\n",
    "\n",
    "print(\"DONE\")"
   ]
  },
  {
   "cell_type": "code",
   "execution_count": 14,
   "id": "1d4958c5-e3ee-4be3-bccf-ea05b53854a8",
   "metadata": {},
   "outputs": [
    {
     "name": "stdout",
     "output_type": "stream",
     "text": [
      "DONE\n"
     ]
    }
   ],
   "source": [
    "# normalizacja danych wejściowych\n",
    "network_input = np.reshape(network_input, (n_patterns, sequence_length, 1)) \n",
    "network_input = network_input / float(n_vocab) # od 0 do 1\n",
    "network_output = to_categorical(network_output) # one-hot encoding\n",
    "print(\"DONE\")"
   ]
  },
  {
   "cell_type": "code",
   "execution_count": 15,
   "id": "7df28ccc-2f44-4078-bb6c-4cc169df5eba",
   "metadata": {},
   "outputs": [
    {
     "name": "stdout",
     "output_type": "stream",
     "text": [
      "Model: \"sequential\"\n",
      "_________________________________________________________________\n",
      " Layer (type)                Output Shape              Param #   \n",
      "=================================================================\n",
      " lstm (LSTM)                 (None, 25, 5)             140       \n",
      "                                                                 \n",
      " dropout (Dropout)           (None, 25, 5)             0         \n",
      "                                                                 \n",
      " lstm_1 (LSTM)               (None, 25, 5)             220       \n",
      "                                                                 \n",
      " dropout_1 (Dropout)         (None, 25, 5)             0         \n",
      "                                                                 \n",
      " lstm_2 (LSTM)               (None, 25, 5)             220       \n",
      "                                                                 \n",
      " dropout_2 (Dropout)         (None, 25, 5)             0         \n",
      "                                                                 \n",
      " lstm_3 (LSTM)               (None, 5)                 220       \n",
      "                                                                 \n",
      " dropout_3 (Dropout)         (None, 5)                 0         \n",
      "                                                                 \n",
      " dense (Dense)               (None, 677)               4062      \n",
      "                                                                 \n",
      "=================================================================\n",
      "Total params: 4862 (18.99 KB)\n",
      "Trainable params: 4862 (18.99 KB)\n",
      "Non-trainable params: 0 (0.00 Byte)\n",
      "_________________________________________________________________\n",
      "DONE\n"
     ]
    }
   ],
   "source": [
    "# tworzenie modelu\n",
    "activation = 'relu'\n",
    "optimizer = 'rmsprop' # 'Adam'\n",
    "loss='categorical_crossentropy'\n",
    "model = Sequential()\n",
    "model.add(LSTM(5, activation=activation, input_shape=(network_input.shape[1], network_input.shape[2]), return_sequences=True))\n",
    "model.add(Dropout(0.25))\n",
    "model.add(LSTM(5, activation=activation, return_sequences=True)) \n",
    "model.add(Dropout(0.25))\n",
    "model.add(LSTM(5, activation=activation, return_sequences=True))\n",
    "model.add(Dropout(0.25))\n",
    "model.add(LSTM(5, activation=activation, return_sequences=False))\n",
    "model.add(Dropout(0.25))\n",
    "model.add(Dense(n_vocab, activation='softmax')) \n",
    "model.compile(loss=loss, optimizer=optimizer)\n",
    "model.summary()\n",
    "print(\"DONE\")"
   ]
  },
  {
   "cell_type": "code",
   "execution_count": 16,
   "id": "ddace383-842e-4768-a6b0-63dea17c844c",
   "metadata": {},
   "outputs": [
    {
     "name": "stdout",
     "output_type": "stream",
     "text": [
      "DONE\n"
     ]
    }
   ],
   "source": [
    "# checkpoint - zapisanie najlepszego modelu\n",
    "file_name = 'model_RNN.hdf5'\n",
    "checkpoint = ModelCheckpoint(file_name, save_best_only=True, monitor='loss', verbose=1)\n",
    "print(\"DONE\")"
   ]
  },
  {
   "cell_type": "code",
   "execution_count": 17,
   "id": "01b90a86-6e0a-4fce-b06c-4b441be5a9aa",
   "metadata": {},
   "outputs": [
    {
     "name": "stdout",
     "output_type": "stream",
     "text": [
      "Epoch 1/10\n",
      "9043/9043 [==============================] - ETA: 0s - loss: 4.5284\n",
      "Epoch 1: loss improved from inf to 4.52839, saving model to model_RNN.hdf5\n",
      "9043/9043 [==============================] - 413s 45ms/step - loss: 4.5284\n",
      "Epoch 2/10\n"
     ]
    },
    {
     "name": "stderr",
     "output_type": "stream",
     "text": [
      "C:\\Users\\marek\\AppData\\Roaming\\Python\\Python311\\site-packages\\keras\\src\\engine\\training.py:3079: UserWarning: You are saving your model as an HDF5 file via `model.save()`. This file format is considered legacy. We recommend using instead the native Keras format, e.g. `model.save('my_model.keras')`.\n",
      "  saving_api.save_model(\n"
     ]
    },
    {
     "name": "stdout",
     "output_type": "stream",
     "text": [
      "9043/9043 [==============================] - ETA: 0s - loss: 4.4719\n",
      "Epoch 2: loss improved from 4.52839 to 4.47191, saving model to model_RNN.hdf5\n",
      "9043/9043 [==============================] - 417s 46ms/step - loss: 4.4719\n",
      "Epoch 3/10\n",
      "9042/9043 [============================>.] - ETA: 0s - loss: 4.4568\n",
      "Epoch 3: loss improved from 4.47191 to 4.45683, saving model to model_RNN.hdf5\n",
      "9043/9043 [==============================] - 430s 48ms/step - loss: 4.4568\n",
      "Epoch 4/10\n",
      "9043/9043 [==============================] - ETA: 0s - loss: 4.4541\n",
      "Epoch 4: loss improved from 4.45683 to 4.45414, saving model to model_RNN.hdf5\n",
      "9043/9043 [==============================] - 505s 56ms/step - loss: 4.4541\n",
      "Epoch 5/10\n",
      "9043/9043 [==============================] - ETA: 0s - loss: 4.4558\n",
      "Epoch 5: loss did not improve from 4.45414\n",
      "9043/9043 [==============================] - 553s 61ms/step - loss: 4.4558\n",
      "Epoch 6/10\n",
      "9042/9043 [============================>.] - ETA: 0s - loss: 4.4557\n",
      "Epoch 6: loss did not improve from 4.45414\n",
      "9043/9043 [==============================] - 772s 85ms/step - loss: 4.4557\n",
      "Epoch 7/10\n",
      "9043/9043 [==============================] - ETA: 0s - loss: 4.4558\n",
      "Epoch 7: loss did not improve from 4.45414\n",
      "9043/9043 [==============================] - 415s 46ms/step - loss: 4.4558\n",
      "Epoch 8/10\n",
      "9043/9043 [==============================] - ETA: 0s - loss: 4.4554\n",
      "Epoch 8: loss did not improve from 4.45414\n",
      "9043/9043 [==============================] - 476s 53ms/step - loss: 4.4554\n",
      "Epoch 9/10\n",
      "9043/9043 [==============================] - ETA: 0s - loss: 4.4557\n",
      "Epoch 9: loss did not improve from 4.45414\n",
      "9043/9043 [==============================] - 544s 60ms/step - loss: 4.4557\n",
      "Epoch 10/10\n",
      "9043/9043 [==============================] - ETA: 0s - loss: 4.4554\n",
      "Epoch 10: loss did not improve from 4.45414\n",
      "9043/9043 [==============================] - 531s 59ms/step - loss: 4.4554\n",
      "DONE\n"
     ]
    }
   ],
   "source": [
    "# trening\n",
    "epochs = 10\n",
    "batch_size = 64\n",
    "history = model.fit(network_input, network_output, epochs=epochs, batch_size=batch_size, callbacks=[checkpoint])\n",
    "print(\"DONE\")"
   ]
  },
  {
   "cell_type": "code",
   "execution_count": 28,
   "id": "31d1ad95-67b9-4930-9c0d-0f408e808d21",
   "metadata": {},
   "outputs": [
    {
     "name": "stdout",
     "output_type": "stream",
     "text": [
      "DONE\n",
      "______________________\n",
      "['A3', 'A3', 'A3', 'A3', 'A3', 'A3', 'A3', 'A3', 'A3', 'A3', 'A3', 'A3', 'A3', 'A3', 'A3', 'A3', 'A3', 'A3', 'A3', 'A3', 'A3', 'A3', 'A3', 'A3', 'A3', 'A3', 'A3', 'A3', 'A3', 'A3', 'A3', 'A3', 'A3', 'A3', 'A3', 'A3', 'A3', 'A3', 'A3', 'A3', 'A3', 'A3', 'A3', 'A3', 'A3', 'A3', 'A3', 'A3', 'A3', 'A3', 'A3', 'A3', 'A3', 'A3', 'A3', 'A3', 'A3', 'A3', 'A3', 'A3', 'A3', 'A3', 'A3', 'A3', 'A3', 'A3', 'A3', 'A3', 'A3', 'A3', 'A3', 'A3', 'A3', 'A3', 'A3', 'A3', 'A3', 'A3', 'A3', 'A3', 'A3', 'A3', 'A3', 'A3', 'A3', 'A3', 'A3', 'A3', 'A3', 'A3', 'A3', 'A3', 'A3', 'A3', 'A3', 'A3', 'A3', 'A3', 'A3', 'A3', 'A3', 'A3', 'A3', 'A3', 'A3', 'A3', 'A3', 'A3', 'A3', 'A3', 'A3', 'A3', 'A3', 'A3', 'A3', 'A3', 'A3', 'A3', 'A3', 'A3', 'A3', 'A3', 'A3', 'A3', 'A3', 'A3', 'A3', 'A3', 'A3', 'A3', 'A3', 'A3', 'A3', 'A3', 'A3', 'A3', 'A3', 'A3', 'A3', 'A3', 'A3', 'A3', 'A3', 'A3', 'A3', 'A3', 'A3', 'A3', 'A3', 'A3', 'A3', 'A3', 'A3', 'A3', 'A3', 'A3', 'A3', 'A3', 'A3', 'A3', 'A3', 'A3', 'A3', 'A3', 'A3', 'A3', 'A3', 'A3', 'A3', 'A3', 'A3', 'A3', 'A3', 'A3', 'A3', 'A3', 'A3', 'A3', 'A3', 'A3', 'A3', 'A3', 'A3', 'A3', 'A3', 'A3', 'A3', 'A3', 'A3', 'A3', 'A3', 'A3', 'A3', 'A3', 'A3', 'A3', 'A3', 'A3', 'A3', 'A3']\n",
      "200\n",
      "______________________\n",
      "[607. 607. 607. 607. 607. 607. 607. 607. 607. 607. 607. 607. 607. 607.\n",
      " 607. 607. 607. 607. 607. 607. 607. 607. 607. 607. 607.]\n",
      "25\n"
     ]
    }
   ],
   "source": [
    "# generowanie nowych nut\n",
    "number_of_notes = 200\n",
    "start = np.random.randint(0, len(network_input) - sequence_length - 1)\n",
    "#start = 11\n",
    "int_to_note = dict((number, note) for number, note in enumerate(pitchnames))\n",
    "pattern = network_input[start]\n",
    "prediction_output = []\n",
    "for note_index in range(number_of_notes):\n",
    "    prediction_input = np.reshape(pattern, (1, len(pattern), 1)) # normalizacja \n",
    "    prediction = model.predict(prediction_input, verbose=0)\n",
    "    index = np.argmax(prediction)\n",
    "    pattern = np.append(pattern, index)\n",
    "    pattern = pattern[1:]\n",
    "    result = int_to_note[index]\n",
    "    prediction_output.append(result)    \n",
    "print(\"DONE\")\n",
    "print(\"______________________\")\n",
    "print(prediction_output)\n",
    "print(len(prediction_output))\n",
    "print(\"______________________\")\n",
    "print(pattern)\n",
    "print(len(pattern))"
   ]
  },
  {
   "cell_type": "code",
   "execution_count": 46,
   "id": "5f48c618-9176-4857-9314-0c372029caac",
   "metadata": {},
   "outputs": [
    {
     "ename": "PitchException",
     "evalue": "Cannot make a name out of ''",
     "output_type": "error",
     "traceback": [
      "\u001b[1;31m---------------------------------------------------------------------------\u001b[0m",
      "\u001b[1;31mPitchException\u001b[0m                            Traceback (most recent call last)",
      "Cell \u001b[1;32mIn[46], line 19\u001b[0m\n\u001b[0;32m     16\u001b[0m     output_notes\u001b[38;5;241m.\u001b[39mappend(new_chord)\n\u001b[0;32m     17\u001b[0m \u001b[38;5;66;03m# nuta\u001b[39;00m\n\u001b[0;32m     18\u001b[0m \u001b[38;5;28;01melse\u001b[39;00m:\n\u001b[1;32m---> 19\u001b[0m     new_note \u001b[38;5;241m=\u001b[39m \u001b[43mnote\u001b[49m\u001b[38;5;241;43m.\u001b[39;49m\u001b[43mNote\u001b[49m\u001b[43m(\u001b[49m\u001b[43mprediction_output\u001b[49m\u001b[43m)\u001b[49m\n\u001b[0;32m     20\u001b[0m     new_note\u001b[38;5;241m.\u001b[39moffset \u001b[38;5;241m=\u001b[39m offset\n\u001b[0;32m     21\u001b[0m     new_note\u001b[38;5;241m.\u001b[39mstoredInstrument \u001b[38;5;241m=\u001b[39m instrument\u001b[38;5;241m.\u001b[39mAcousticGuitar()\n",
      "File \u001b[1;32m~\\AppData\\Roaming\\Python\\Python311\\site-packages\\music21\\note.py:1543\u001b[0m, in \u001b[0;36mNote.__init__\u001b[1;34m(self, pitch, name, nameWithOctave, **keywords)\u001b[0m\n\u001b[0;32m   1541\u001b[0m         \u001b[38;5;28mself\u001b[39m\u001b[38;5;241m.\u001b[39mpitch \u001b[38;5;241m=\u001b[39m pitch\n\u001b[0;32m   1542\u001b[0m     \u001b[38;5;28;01melse\u001b[39;00m:  \u001b[38;5;66;03m# assume first argument is pitch\u001b[39;00m\n\u001b[1;32m-> 1543\u001b[0m         \u001b[38;5;28mself\u001b[39m\u001b[38;5;241m.\u001b[39mpitch \u001b[38;5;241m=\u001b[39m \u001b[43mPitch\u001b[49m\u001b[43m(\u001b[49m\u001b[43mpitch\u001b[49m\u001b[43m,\u001b[49m\u001b[43m \u001b[49m\u001b[38;5;241;43m*\u001b[39;49m\u001b[38;5;241;43m*\u001b[39;49m\u001b[43mkeywords\u001b[49m\u001b[43m)\u001b[49m\n\u001b[0;32m   1544\u001b[0m \u001b[38;5;28;01melse\u001b[39;00m:  \u001b[38;5;66;03m# supply a default pitch\u001b[39;00m\n\u001b[0;32m   1545\u001b[0m     \u001b[38;5;28;01mif\u001b[39;00m nameWithOctave \u001b[38;5;129;01mis\u001b[39;00m \u001b[38;5;129;01mnot\u001b[39;00m \u001b[38;5;28;01mNone\u001b[39;00m:\n",
      "File \u001b[1;32m~\\AppData\\Roaming\\Python\\Python311\\site-packages\\music21\\pitch.py:1953\u001b[0m, in \u001b[0;36mPitch.__init__\u001b[1;34m(self, name, step, octave, accidental, microtone, pitchClass, midi, ps, fundamental, **keywords)\u001b[0m\n\u001b[0;32m   1951\u001b[0m \u001b[38;5;28;01mif\u001b[39;00m name \u001b[38;5;129;01mis\u001b[39;00m \u001b[38;5;129;01mnot\u001b[39;00m \u001b[38;5;28;01mNone\u001b[39;00m:\n\u001b[0;32m   1952\u001b[0m     \u001b[38;5;28;01mif\u001b[39;00m \u001b[38;5;28misinstance\u001b[39m(name, \u001b[38;5;28mstr\u001b[39m):\n\u001b[1;32m-> 1953\u001b[0m         \u001b[38;5;28;43mself\u001b[39;49m\u001b[38;5;241;43m.\u001b[39;49m\u001b[43mname\u001b[49m \u001b[38;5;241m=\u001b[39m name  \u001b[38;5;66;03m# set based on string\u001b[39;00m\n\u001b[0;32m   1954\u001b[0m     \u001b[38;5;28;01melse\u001b[39;00m:  \u001b[38;5;66;03m# is a number\u001b[39;00m\n\u001b[0;32m   1955\u001b[0m         \u001b[38;5;66;03m# is a midiNumber or a ps -- a float midiNumber\u001b[39;00m\n\u001b[0;32m   1956\u001b[0m         \u001b[38;5;66;03m# get step and accidental w/o octave\u001b[39;00m\n\u001b[0;32m   1957\u001b[0m         \u001b[38;5;28mself\u001b[39m\u001b[38;5;241m.\u001b[39mstep, \u001b[38;5;28mself\u001b[39m\u001b[38;5;241m.\u001b[39m_accidental \u001b[38;5;241m=\u001b[39m _convertPsToStep(name)[\u001b[38;5;241m0\u001b[39m:\u001b[38;5;241m2\u001b[39m]\n",
      "File \u001b[1;32m~\\AppData\\Roaming\\Python\\Python311\\site-packages\\music21\\pitch.py:2805\u001b[0m, in \u001b[0;36mPitch.name\u001b[1;34m(self, usrStr)\u001b[0m\n\u001b[0;32m   2803\u001b[0m     \u001b[38;5;28mself\u001b[39m\u001b[38;5;241m.\u001b[39maccidental \u001b[38;5;241m=\u001b[39m Accidental(usrStr[\u001b[38;5;241m1\u001b[39m:])\n\u001b[0;32m   2804\u001b[0m \u001b[38;5;28;01melse\u001b[39;00m:\n\u001b[1;32m-> 2805\u001b[0m     \u001b[38;5;28;01mraise\u001b[39;00m PitchException(\u001b[38;5;124mf\u001b[39m\u001b[38;5;124m'\u001b[39m\u001b[38;5;124mCannot make a name out of \u001b[39m\u001b[38;5;132;01m{\u001b[39;00musrStr\u001b[38;5;132;01m!r}\u001b[39;00m\u001b[38;5;124m'\u001b[39m)\n\u001b[0;32m   2807\u001b[0m \u001b[38;5;28;01mif\u001b[39;00m octFoundStr:  \u001b[38;5;66;03m# bool('0') == True, so okay...\u001b[39;00m\n\u001b[0;32m   2808\u001b[0m     octave \u001b[38;5;241m=\u001b[39m \u001b[38;5;28mint\u001b[39m(octFoundStr)\n",
      "\u001b[1;31mPitchException\u001b[0m: Cannot make a name out of ''"
     ]
    }
   ],
   "source": [
    "# tworzenie nut i akordów\n",
    "offset = 0  # przesuniecie nut lub akordów (czas)\n",
    "output_notes = []\n",
    "\n",
    "for prediction_output in prediction_output:\n",
    "    # szukanie akordów\n",
    "    if ('.' in prediction_output):\n",
    "        notes_in_chord = prediction_output.split('.')\n",
    "        notes = []\n",
    "        for current_note in notes_in_chord:\n",
    "            new_note = note.Note(int(current_note))\n",
    "            new_note.storedInstrument = instrument.AcousticGuitar()\n",
    "            notes.append(new_note)\n",
    "        new_chord = chord.Chord(notes)\n",
    "        new_chord.offset = offset\n",
    "        output_notes.append(new_chord)\n",
    "    # nuta\n",
    "    else:\n",
    "        new_note = note.Note(prediction_output)\n",
    "        new_note.offset = offset\n",
    "        new_note.storedInstrument = instrument.AcousticGuitar()\n",
    "        output_notes.append(new_note)\n",
    "\n",
    "    # increase offset each iteration so that notes do not stack\n",
    "    offset += 0.5\n",
    "\n",
    "print(\"DONE\")\n",
    "print(output_notes)\n"
   ]
  },
  {
   "cell_type": "code",
   "execution_count": 34,
   "id": "5ddc1ff2-60d5-4b17-8c50-20ecdb3c72aa",
   "metadata": {},
   "outputs": [
    {
     "name": "stdout",
     "output_type": "stream",
     "text": [
      "DONE\n"
     ]
    }
   ],
   "source": [
    "# tworzenie pliku midi\n",
    "midi_stream = stream.Stream(output_notes)\n",
    "midi_stream.write('midi', fp='OUTPUT.mid')\n",
    "print(\"DONE\")"
   ]
  },
  {
   "cell_type": "code",
   "execution_count": 35,
   "id": "f69ffb77-ffc4-434b-92a4-df5cc83e2780",
   "metadata": {},
   "outputs": [
    {
     "data": {
      "text/html": [
       "\n",
       "        <div id=\"midiPlayerDiv16076205\"></div>\n",
       "        <link rel=\"stylesheet\" href=\"https://cuthbertLab.github.io/music21j/css/m21.css\">\n",
       "        \n",
       "        <script\n",
       "        src=\"https://cdnjs.cloudflare.com/ajax/libs/require.js/2.3.6/require.min.js\"\n",
       "        ></script>\n",
       "    \n",
       "        <script>\n",
       "        function midiPlayerDiv16076205_play() {\n",
       "            const rq = require.config({\n",
       "                paths: {\n",
       "                    'music21': 'https://cuthbertLab.github.io/music21j/releases/music21.debug',\n",
       "                }\n",
       "            });\n",
       "            rq(['music21'], function(music21) {\n",
       "                mp = new music21.miditools.MidiPlayer();\n",
       "                mp.addPlayer(\"#midiPlayerDiv16076205\");\n",
       "                mp.base64Load(\"data:audio/midi;base64,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\");\n",
       "            });\n",
       "        }\n",
       "        if (typeof require === 'undefined') {\n",
       "            setTimeout(midiPlayerDiv16076205_play, 2000);\n",
       "        } else {\n",
       "            midiPlayerDiv16076205_play();\n",
       "        }\n",
       "        </script>"
      ],
      "text/plain": [
       "<IPython.core.display.HTML object>"
      ]
     },
     "metadata": {},
     "output_type": "display_data"
    }
   ],
   "source": [
    "mf = converter.parse('OUTPUT.mid')\n",
    "mf.show('midi')"
   ]
  },
  {
   "cell_type": "code",
   "execution_count": null,
   "id": "c68fa494-5a46-47d3-b86e-986699f9d429",
   "metadata": {},
   "outputs": [],
   "source": [
    "print(prediction_output)"
   ]
  }
 ],
 "metadata": {
  "kernelspec": {
   "display_name": "Python 3 (ipykernel)",
   "language": "python",
   "name": "python3"
  },
  "language_info": {
   "codemirror_mode": {
    "name": "ipython",
    "version": 3
   },
   "file_extension": ".py",
   "mimetype": "text/x-python",
   "name": "python",
   "nbconvert_exporter": "python",
   "pygments_lexer": "ipython3",
   "version": "3.11.5"
  }
 },
 "nbformat": 4,
 "nbformat_minor": 5
}

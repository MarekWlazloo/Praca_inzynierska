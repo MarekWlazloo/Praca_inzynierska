{
 "cells": [
  {
   "cell_type": "code",
   "execution_count": null,
   "id": "3e2702a1-8896-4631-aaad-4bf618534e23",
   "metadata": {},
   "outputs": [],
   "source": [
    "import numpy as np\n",
    "from keras.models import Sequential\n",
    "from keras.layers import *\n",
    "from keras.callbacks import ModelCheckpoint\n",
    "from keras.losses import MeanSquaredError\n",
    "from keras.optimizers import *\n",
    "from keras.models import load_model\n",
    "import matplotlib.pyplot as plt\n",
    "from music21 import chord, instrument, converter, note, stream\n",
    "import glob\n",
    "from tensorflow.keras.utils import to_categorical\n",
    "import time\n",
    "import random\n",
    "\n",
    "print(\"DONE\")"
   ]
  },
  {
   "cell_type": "code",
   "execution_count": null,
   "id": "2db637de-0bc4-4d28-a116-31df4ffb0529",
   "metadata": {},
   "outputs": [],
   "source": [
    "\n",
    "\n",
    "notes = []\n",
    "start_time = time.time()\n",
    "for file in glob.glob(\"dane_treningowe/midi_clear/*.mid\"):\n",
    "    midi = converter.parse(file)\n",
    "    parts = instrument.partitionByInstrument(midi)\n",
    "\n",
    "    if parts:\n",
    "        for part in parts:\n",
    "            if part.getInstrument() is not None:\n",
    "                instrument_name = part.getInstrument().instrumentName\n",
    "                if instrument_name == \"Acoustic Guitar\":\n",
    "                    notes_to_parse = part.recurse()\n",
    "                    chord_notes = []\n",
    "                    for element in notes_to_parse:\n",
    "                        if isinstance(element, note.Note):\n",
    "                            notes.append(str(element.pitch))\n",
    "                        elif isinstance(element, chord.Chord):\n",
    "                            chord_notes = [str(n) for n in element.normalOrder]\n",
    "                            chord_str = '.'.join(chord_notes)\n",
    "                            notes.append(chord_str)\n",
    "\n",
    "with open(\"output2.txt\", \"w\") as file:\n",
    "    for note_item in notes:\n",
    "        file.write(note_item + \" \")\n",
    "end_time = time.time()\n",
    "elapsed_time = end_time - start_time\n",
    "elapsed_time_minutes = elapsed_time / 60\n",
    "print(f\"Czas wykonywania programu: {elapsed_time_minutes} minut\") \n",
    "print(\"DONE\")\n"
   ]
  },
  {
   "cell_type": "code",
   "execution_count": null,
   "id": "09ab5d3c-27f5-4338-ab8a-bc40e345c9b8",
   "metadata": {},
   "outputs": [],
   "source": [
    "pitchnames = sorted(set(item for item in notes)) # zbiór unikalnych akordów i nut\n",
    "n_vocab = len(pitchnames) #ilosc unikalnych nut i akordów\n",
    "#słownik, przypisanie nutom ich odpowiednich liczb\n",
    "note_to_int = dict((note, number) for number, note in enumerate(pitchnames))\n",
    "print(\"DONE\")"
   ]
  },
  {
   "cell_type": "code",
   "execution_count": null,
   "id": "9d73c3c6-46d5-479e-a2fe-0abc8ae0519d",
   "metadata": {},
   "outputs": [],
   "source": [
    "#wejscia i wyjścia sieci\n",
    "network_input = []\n",
    "network_output = []\n",
    "network = []\n",
    "seq = 25 # dlugosc sekwencji wejsciowej 10,25,50,100\n",
    "sequence_length = seq + 1\n",
    "\n",
    "for i in range(0, len(notes) - sequence_length):  \n",
    "    sequence = notes[i:i + sequence_length]\n",
    "    network.append(sequence)\n",
    "\n",
    "random.shuffle(network)\n",
    "\n",
    "for j in range(len(network)):\n",
    "    sequence_in = network[j][:(sequence_length - 1)]\n",
    "    sequence_out = network[j][sequence_length - 1]\n",
    "    network_input.append([note_to_int[char] for char in sequence_in])\n",
    "    network_output.append(note_to_int[sequence_out])\n",
    "    n_patterns = len(network_input)\n",
    "\n",
    "\n",
    "print(\"DONE\")"
   ]
  },
  {
   "cell_type": "code",
   "execution_count": null,
   "id": "1d4958c5-e3ee-4be3-bccf-ea05b53854a8",
   "metadata": {
    "scrolled": true
   },
   "outputs": [],
   "source": [
    "# normalizacja danych wejściowych\n",
    "network_input = np.reshape(network_input, (n_patterns, seq, 1)) \n",
    "network_input = network_input / float(n_vocab) # od 0 do 1\n",
    "network_output = to_categorical(network_output) # one-hot encoding\n",
    "print(\"Kształt danych wejściowych (network_input):\", network_input.shape)\n",
    "print(\"Kształt danych wyjściowych (network_output):\", network_output.shape)\n",
    "# print(network_output)\n",
    "network_input_train = network_input[: int(0.7*len(network_input))]\n",
    "network_output_train = network_output[:int(0.7*len(network_output))]\n",
    "\n",
    "network_input_val = network_input[int(0.7*len(network_input)):int(0.85*len(network_input))]\n",
    "network_output_val = network_output[int(0.7*len(network_output)):int(0.85*len(network_output))]\n",
    "\n",
    "network_input_test = network_input[int(0.85*len(network_input)):]\n",
    "network_output_test = network_output[int(0.85*len(network_output)):]\n",
    "print(\"Kształt danych wejściowych treningowych :\", network_input_train.shape)\n",
    "print(\"Kształt danych wyjściowych treningowych :\", network_output_train.shape)\n",
    "print(\"Kształt danych wejściowych walidacyjnych :\", network_input_val.shape)\n",
    "print(\"Kształt danych wyjściowych walidacyjnych :\", network_output_val.shape)\n",
    "print(\"Kształt danych wejściowych testowych :\", network_input_test.shape)\n",
    "print(\"Kształt danych wyjściowych testowych :\", network_output_test.shape)"
   ]
  },
  {
   "cell_type": "code",
   "execution_count": null,
   "id": "7df28ccc-2f44-4078-bb6c-4cc169df5eba",
   "metadata": {
    "scrolled": true
   },
   "outputs": [],
   "source": [
    "# tworzenie modelu\n",
    "activation = 'relu'\n",
    "optimizer = 'rmsprop' # 'rmsprop'Adam\n",
    "loss='categorical_crossentropy'\n",
    "num_of_neurons = 20 # 20, 50, 100, 200\n",
    "num_of_layers = 2\n",
    "model = Sequential()\n",
    "model.add(LSTM(num_of_neurons, activation=activation, input_shape=(network_input_train.shape[1], network_input_train.shape[2]), return_sequences=True))\n",
    "model.add(Dropout(0.2))\n",
    "model.add(LSTM(num_of_neurons, activation=activation, return_sequences=False)) \n",
    "model.add(Dropout(0.2))\n",
    "model.add(Dense(n_vocab, activation='softmax')) \n",
    "model.compile(loss=loss, optimizer=optimizer, metrics=['accuracy'])\n",
    "model.summary()\n",
    "print(\"DONE\")"
   ]
  },
  {
   "cell_type": "code",
   "execution_count": null,
   "id": "ddace383-842e-4768-a6b0-63dea17c844c",
   "metadata": {
    "scrolled": true
   },
   "outputs": [],
   "source": [
    "# checkpoint - zapisanie najlepszego modelu\n",
    "epochs = 120\n",
    "batch_size = 100\n",
    "file_name = f'MODEL_3lstm_{num_of_neurons}neurons_{epochs}epochs_{batch_size}batchsize_{seq}seq_len_{num_of_layers}_num_of_layers.hdf5'\n",
    "checkpoint = ModelCheckpoint(file_name, save_best_only=True, monitor='accuracy', verbose=0)\n",
    "print(\"DONE\")"
   ]
  },
  {
   "cell_type": "code",
   "execution_count": null,
   "id": "01b90a86-6e0a-4fce-b06c-4b441be5a9aa",
   "metadata": {
    "scrolled": true
   },
   "outputs": [],
   "source": [
    "# trening\n",
    "history = model.fit(network_input_train, network_output_train, epochs=epochs, batch_size=batch_size, validation_data=(network_input_val, network_output_val), callbacks=[checkpoint])\n",
    "print(\"DONE\")"
   ]
  },
  {
   "cell_type": "code",
   "execution_count": null,
   "id": "c4aa6721-0bc3-492e-b4e6-2f99c5e45c97",
   "metadata": {},
   "outputs": [],
   "source": [
    "#loaded_model = load_model('MODEL_2lstm_25neurons_25epochs_100batchsize_seq100.hdf5')\n",
    "\n",
    "#try:\n",
    "#    history = loaded_model.history\n",
    "#except AttributeError:\n",
    "#    print(\"Model nie posiada historii trenowania.\")\n",
    "#    history = None\n",
    "\n",
    "if history is not None:\n",
    "    plt.figure(figsize=(12, 6))\n",
    "    plt.subplot(1, 2, 1)\n",
    "    plt.plot(history.history['accuracy'], label='accuracy')\n",
    "    plt.plot(history.history['val_accuracy'], label='val_accuracy')\n",
    "    plt.title('Model Accuracy')\n",
    "    plt.xlabel('Epoch')\n",
    "    plt.ylabel('Accuracy')\n",
    "    plt.legend(loc='lower right')\n",
    "\n",
    "    # Wykres val_accuracy\n",
    "    plt.subplot(1, 2, 2)\n",
    "    plt.plot(history.history['val_accuracy'], label='val_accuracy')\n",
    "    plt.title('Model Validation Accuracy')\n",
    "    plt.xlabel('Epoch')\n",
    "    plt.ylabel('Validation Accuracy')\n",
    "    plt.legend(loc='lower right')\n",
    "\n",
    "    plt.show()\n",
    "else:\n",
    "    print(\"Brak dostępnej historii trenowania.\")\n"
   ]
  },
  {
   "cell_type": "code",
   "execution_count": null,
   "id": "31d1ad95-67b9-4930-9c0d-0f408e808d21",
   "metadata": {},
   "outputs": [],
   "source": [
    "# generowanie nowych nut\n",
    "number_of_notes = 200\n",
    "start = np.random.randint(0, len(network_input) - sequence_length - 1)\n",
    "#start = 11\n",
    "int_to_note = dict((number, note) for number, note in enumerate(pitchnames))\n",
    "pattern = network_input[start]\n",
    "prediction_output = []\n",
    "# model = load_model(\"MODEL_2lstm_25neurons_400epochs_100batchsize.hdf5\")\n",
    "for note_index in range(number_of_notes):\n",
    "    prediction_input = np.reshape(pattern, (1, len(pattern), 1)) # normalizacja \n",
    "    prediction = model.predict(prediction_input, verbose=0)\n",
    "    index = np.argmax(prediction)\n",
    "    pattern = np.append(pattern, index)\n",
    "    pattern = pattern[1:]\n",
    "    result = int_to_note[index]\n",
    "    prediction_output.append(result)    \n",
    "print(\"DONE\")\n",
    "print(\"______________________\")\n",
    "print(prediction_output)\n",
    "print(len(prediction_output))\n",
    "print(\"______________________\")\n"
   ]
  },
  {
   "cell_type": "code",
   "execution_count": null,
   "id": "da29be82-7e06-4300-b4da-5a9e28d0af4e",
   "metadata": {},
   "outputs": [],
   "source": [
    "print(prediction_output)"
   ]
  },
  {
   "cell_type": "code",
   "execution_count": null,
   "id": "5f48c618-9176-4857-9314-0c372029caac",
   "metadata": {},
   "outputs": [],
   "source": [
    "# tworzenie nut i akordów\n",
    "offset = 0  # przesuniecie nut lub akordów (czas)\n",
    "output_notes = []\n",
    "\n",
    "for item in prediction_output:\n",
    "    # szukanie akordów\n",
    "    if ('.' in item):\n",
    "        notes_in_chord = item.split('.')\n",
    "        notes12 = []\n",
    "        for current_note in notes_in_chord:\n",
    "            new_note = note.Note(int(current_note))\n",
    "            new_note.storedInstrument = instrument.AcousticGuitar()\n",
    "            notes12.append(new_note)\n",
    "        new_chord = chord.Chord(notes12)\n",
    "        new_chord.offset = offset\n",
    "        output_notes.append(new_chord)\n",
    "    # nuta\n",
    "    else:\n",
    "        new_note = note.Note(item)\n",
    "        new_note.offset = offset\n",
    "        new_note.storedInstrument = instrument.AcousticGuitar()\n",
    "        output_notes.append(new_note)\n",
    "\n",
    "    # increase offset each iteration so that notes do not stack\n",
    "    offset += 0.5\n",
    "\n",
    "print(\"DONE\")\n",
    "print(output_notes)\n"
   ]
  },
  {
   "cell_type": "code",
   "execution_count": null,
   "id": "5ddc1ff2-60d5-4b17-8c50-20ecdb3c72aa",
   "metadata": {},
   "outputs": [],
   "source": [
    "# tworzenie pliku midi\n",
    "\n",
    "file_out = f'MODEL_3lstm_{num_of_neurons}neurons_{epochs}epochs_{batch_size}batchsize_{seq}seq_len_{num_of_layers}_num_of_layers.mid'\n",
    "\n",
    "midi_stream = stream.Stream(output_notes)\n",
    "midi_stream.write('midi', fp=file_out)\n",
    "print(\"DONE\")"
   ]
  },
  {
   "cell_type": "code",
   "execution_count": null,
   "id": "f69ffb77-ffc4-434b-92a4-df5cc83e2780",
   "metadata": {},
   "outputs": [],
   "source": [
    "mf = converter.parse(file_out)\n",
    "mf.show('midi')"
   ]
  },
  {
   "cell_type": "code",
   "execution_count": null,
   "id": "d1d06463-4c5e-4048-a90d-6bf428f6c0d0",
   "metadata": {},
   "outputs": [],
   "source": [
    "print(prediction_output)"
   ]
  },
  {
   "cell_type": "code",
   "execution_count": null,
   "id": "fa10b856-0e88-426b-8833-b3bf9ae67c54",
   "metadata": {},
   "outputs": [],
   "source": []
  }
 ],
 "metadata": {
  "kernelspec": {
   "display_name": "Python 3 (ipykernel)",
   "language": "python",
   "name": "python3"
  },
  "language_info": {
   "codemirror_mode": {
    "name": "ipython",
    "version": 3
   },
   "file_extension": ".py",
   "mimetype": "text/x-python",
   "name": "python",
   "nbconvert_exporter": "python",
   "pygments_lexer": "ipython3",
   "version": "3.11.5"
  }
 },
 "nbformat": 4,
 "nbformat_minor": 5
}
